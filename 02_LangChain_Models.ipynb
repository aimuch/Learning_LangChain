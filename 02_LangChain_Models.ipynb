{
 "cells": [
  {
   "cell_type": "markdown",
   "metadata": {},
   "source": [
    "# LangChain\n",
    "Langchain提供接口集成不同的模型，openai的模型endpoint如下表所示：\n",
    "| endpoint | 模型名 | 说明 |\n",
    "| :---: | :---: | :---: |\n",
    "| `/v1/chat/completions` | gpt-4, gpt-4-0613, gpt-4-32k, gpt-4-32k-0613, gpt-3.5-turbo, gpt-3.5-turbo-0613, gpt-3.5-turbo-16k, gpt-3.5-turbo-16k-0613 | 对话模型 |\n",
    "| `/v1/completions `| (Legacy) text-davinci-003, text-davinci-002, text-davinci-001, text-curie-001, text-babbage-001, text-ada-001, davinci, curie, babbage, ada | 文本补全模型 |\n",
    "\n",
    "为了便于切换模型，Langchain将不同模型抽象为相同的接口 `BaseLanguageModel`，并提供 `predict` 和 `predict_messages` 函数来调用模型。\n",
    "\n",
    "当使用LLM时推荐使用`predict`函数，当使用聊天模型时推荐使用`predict_messages`函数。"
   ]
  },
  {
   "cell_type": "markdown",
   "metadata": {},
   "source": [
    "## 补全型\n",
    "使用 `langchain.llms` 模块中的 `OpenAI` 类来创建语言模型实例，并使用 `predict` 方法进行文本生成。"
   ]
  },
  {
   "cell_type": "code",
   "execution_count": null,
   "metadata": {},
   "outputs": [
    {
     "name": "stdout",
     "output_type": "stream",
     "text": [
      "\n",
      "\n",
      "你好，你好吗？\n"
     ]
    }
   ],
   "source": [
    "from langchain.llms import OpenAI\n",
    "\n",
    "import os\n",
    "os.environ[\"OPENAI_API_KEY\"] = \"sk-proj-YOUR_API_KEY\"\n",
    "\n",
    "# llms = OpenAI(model_name=\"text-davinci-003\") # 已被弃用\n",
    "llms = OpenAI(model_name=\"gpt-3.5-turbo-instruct\")\n",
    "\n",
    "# predict为LangChain的补全类方法\n",
    "response = llms.predict(\"Translate the following English text to Chinese: 'Hello, how are you?'\")\n",
    "print(response)"
   ]
  },
  {
   "cell_type": "markdown",
   "metadata": {},
   "source": [
    "## 对话型\n",
    "需要使用 `langchain.chat_models` 模块中的 `ChatOpenAI` 类来创建对话模型实例，并使用 `predict_messages` 方法进行对话生成。"
   ]
  },
  {
   "cell_type": "code",
   "execution_count": null,
   "metadata": {},
   "outputs": [
    {
     "name": "stdout",
     "output_type": "stream",
     "text": [
      "content='大模型是指参数数量庞大、计算资源需求高的机器学习模型。这些模型通常具有数百万到数十亿个参数，需要大量的数据和计算资源进行训练和推断。大模型通常用于处理复杂的任务，如自然语言处理、计算机视觉和强化学习等领域。常见的大模型包括BERT、GPT-3、ResNet等。' additional_kwargs={} response_metadata={'token_usage': {'completion_tokens': 124, 'prompt_tokens': 15, 'total_tokens': 139, 'completion_tokens_details': {'accepted_prediction_tokens': 0, 'audio_tokens': 0, 'reasoning_tokens': 0, 'rejected_prediction_tokens': 0}, 'prompt_tokens_details': {'audio_tokens': 0, 'cached_tokens': 0}}, 'model_name': 'gpt-3.5-turbo', 'system_fingerprint': None, 'finish_reason': 'stop', 'logprobs': None} id='run-5c870321-01a1-4b8f-8abc-0a5cb470768e-0'\n"
     ]
    }
   ],
   "source": [
    "from langchain.chat_models import ChatOpenAI\n",
    "from langchain.schema import AIMessage, HumanMessage, SystemMessage\n",
    "\n",
    "import os\n",
    "os.environ[\"OPENAI_API_KEY\"] = \"sk-proj-your_api_key\"\n",
    "\n",
    "chat = ChatOpenAI(temperature=0.5)\n",
    "response = chat.predict_messages([HumanMessage(content=\"什么是大模型?\")])\n",
    "print(response)"
   ]
  },
  {
   "cell_type": "code",
   "execution_count": 10,
   "metadata": {},
   "outputs": [
    {
     "data": {
      "text/plain": [
       "langchain_core.messages.ai.AIMessage"
      ]
     },
     "execution_count": 10,
     "metadata": {},
     "output_type": "execute_result"
    }
   ],
   "source": [
    "response.__class__"
   ]
  },
  {
   "cell_type": "markdown",
   "metadata": {},
   "source": [
    "使用 `SystemMessage` 指令来指定模型的行为。如下代码指定模型用中文回答："
   ]
  },
  {
   "cell_type": "code",
   "execution_count": 11,
   "metadata": {},
   "outputs": [
    {
     "name": "stdout",
     "output_type": "stream",
     "text": [
      "content='人工智能（AI）是模拟人类智能的一种技术。它涉及创建能够执行需要人类智力的任务的计算机程序。' additional_kwargs={} response_metadata={'token_usage': {'completion_tokens': 49, 'prompt_tokens': 34, 'total_tokens': 83, 'completion_tokens_details': {'accepted_prediction_tokens': 0, 'audio_tokens': 0, 'reasoning_tokens': 0, 'rejected_prediction_tokens': 0}, 'prompt_tokens_details': {'audio_tokens': 0, 'cached_tokens': 0}}, 'model_name': 'gpt-3.5-turbo', 'system_fingerprint': None, 'finish_reason': 'stop', 'logprobs': None} id='run-f908a82b-1189-4e17-9a5e-61b29dfe95a3-0'\n"
     ]
    }
   ],
   "source": [
    "response = chat.predict_messages([\n",
    "    SystemMessage(content=\"You are an AI assistant. When you are asked about AI, you must respond in Chinese.\"),\n",
    "    HumanMessage(content=\"What's AI?\")])\n",
    "\n",
    "print(response)"
   ]
  },
  {
   "cell_type": "markdown",
   "metadata": {},
   "source": [
    "Langchain框架提供了三个消息类，分别是 `AIMessage`、`HumanMessage` 和 `SystemMessage`。它们对应了OpenAI聊天模型API支持的不同角色 assistant、user 和 system。\n",
    "\n",
    "| LangChain类 | OpenAI角色 | 作用 |\n",
    "| :---: | :---: | :---: |\n",
    "| AIMessage | assistant | 模型回答的消息 |\n",
    "| HumanMessage | user | 用户向模型的请求或提问 |\n",
    "| SystemMessage | system | 系统指令，用于指定模型的行为 |"
   ]
  }
 ],
 "metadata": {
  "kernelspec": {
   "display_name": "ai",
   "language": "python",
   "name": "python3"
  },
  "language_info": {
   "codemirror_mode": {
    "name": "ipython",
    "version": 3
   },
   "file_extension": ".py",
   "mimetype": "text/x-python",
   "name": "python",
   "nbconvert_exporter": "python",
   "pygments_lexer": "ipython3",
   "version": "3.13.2"
  }
 },
 "nbformat": 4,
 "nbformat_minor": 2
}
